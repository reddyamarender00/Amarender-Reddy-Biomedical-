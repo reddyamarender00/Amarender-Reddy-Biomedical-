{
 "cells": [
  {
   "cell_type": "markdown",
   "metadata": {},
   "source": [
    "# Introduction\n",
    "--------------\n",
    "\n",
    "This Notebook is the simplest example for how to run one single piece of code in Python for the course. Edit someting.\n"
   ]
  },
  {
   "cell_type": "code",
   "execution_count": 2,
   "metadata": {},
   "outputs": [
    {
     "name": "stdout",
     "output_type": "stream",
     "text": [
      "\n",
      " Hello Hai this is Amar and I am from India.\n",
      "2\n"
     ]
    }
   ],
   "source": [
    "#This is the simplest of the codes for Python\n",
    "\n",
    "txt='Hai this is Amar'\n",
    "txt2=\" and I am from India.\"\n",
    "print('\\n Hello '+txt+txt2)\n",
    "list1=[2,2,3]\n",
    "print(list1[0])\n"
   ]
  },
  {
   "cell_type": "markdown",
   "metadata": {},
   "source": [
    "We just ran our first Python code on a notebook!\n",
    "\n",
    "Test your knowledge:\n",
    "\n",
    "* Execute 3 of the code examples in the tutorial and add some Markdown cells\n"
   ]
  }
 ],
 "metadata": {
  "anaconda-cloud": {},
  "kernelspec": {
   "display_name": "Python 2",
   "language": "python",
   "name": "python2"
  },
  "language_info": {
   "codemirror_mode": {
    "name": "ipython",
    "version": 2
   },
   "file_extension": ".py",
   "mimetype": "text/x-python",
   "name": "python",
   "nbconvert_exporter": "python",
   "pygments_lexer": "ipython2",
   "version": "2.7.13"
  }
 },
 "nbformat": 4,
 "nbformat_minor": 1
}
